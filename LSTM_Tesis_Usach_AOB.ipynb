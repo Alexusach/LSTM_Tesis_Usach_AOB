{
  "nbformat": 4,
  "nbformat_minor": 0,
  "metadata": {
    "colab": {
      "provenance": []
    },
    "kernelspec": {
      "name": "python3",
      "display_name": "Python 3"
    },
    "language_info": {
      "name": "python"
    }
  },
  "cells": [
    {
      "cell_type": "markdown",
      "source": [
        "PREDICCIÓN DE PRECIOS DE MONEDAS DIGITALES CON MACHINE LEARNING, APRENDIZAJE AUTOMÁTICO PROFUNDO."
      ],
      "metadata": {
        "id": "6AMmVzXwVxo5"
      }
    },
    {
      "cell_type": "markdown",
      "source": [
        "#DEFINICIÓN DEL PROBLEMA"
      ],
      "metadata": {
        "id": "tIAbx7vQV42j"
      }
    },
    {
      "cell_type": "markdown",
      "source": [
        "El problema es sobre la desconfianza que existe en los mercados financieros tradicionales que nace debido a las diversas crisis financieras, intervenidas por la mano del hombre y que vienen afectando a la economía global desde el año 2007 (Crisis Subprime) y que probablemente seguirán ocurriendo en futuro. Por este motivo se ha producido el desvanecimiento del optimismo económico, la intensificación de las vulnerabilidades financieras y el deterioro de la confianza en los mercados tradicionales que ofrecen productos financieros altamente sofisticados, complejos y automatizados. Donde la mayoría de los inversionistas no conocen la naturaleza última de las operaciones contratadas o que tipos de tecnologías como el Blockchain pueden beneficiar tanto al inversor como a la banca.\n",
        "La incertidumbre y la volatilidad en los mercados cada vez se incrementan y la inteligencia artificial (IA), el aprendizaje automático (ML) y el aprendizaje profundo (DL) han transformado las finanzas y la inversión. Lo que hace posible realizar modelos que permitan proyectar situaciones inciertas, como la predicción de precios que tendrán las monedas digitales o criptomonedas, acciones o cualquier activo financiero en los mercados. ¡\"La Inteligencia artificial es para el trading lo que el fuego era para los hombres de las cavernas\"!.\n",
        "En este proyecto, entrenaremos un modelo de red neuronal profunda para predecir los precios futuros de las monedas digitales o criptomonedas.\n",
        "Utilizaremos un tipo de red neuronal conocida como Long Short-Term Memory Networks (LSTM). Este modelo se entrenará utilizando datos históricos de precios de cierre de monedas digitales. "
      ],
      "metadata": {
        "id": "5MiBGR3QV6Ys"
      }
    },
    {
      "cell_type": "markdown",
      "source": [
        "# Metodología Proceso KDD"
      ],
      "metadata": {
        "id": "6pdNQo34V_E9"
      }
    },
    {
      "cell_type": "code",
      "source": [
        "#!pip install https://github.com/pandas-profiling/pandas-profiling/archive/master.zip\n",
        "#!apt-get update\n",
        "!pip install yfinance\n",
        "!pip install yahoofinancials"
      ],
      "metadata": {
        "id": "xUUDSsdx6L_3"
      },
      "execution_count": null,
      "outputs": []
    },
    {
      "cell_type": "markdown",
      "source": [
        "# 1. Recopilación de Datos"
      ],
      "metadata": {
        "id": "boxo6StZWCcq"
      }
    },
    {
      "cell_type": "markdown",
      "source": [
        "# 1.1 Instalación e importación de librerías"
      ],
      "metadata": {
        "id": "-GhI1HUPWF1u"
      }
    },
    {
      "cell_type": "code",
      "source": [
        "# Biblioteca de Importación\n",
        "# a)\tManipulación y tratamiento de datos.\n",
        "import numpy as np\n",
        "import pandas as pd\n",
        "import math\n",
        "import datetime as dt\n",
        "import os\n",
        "import seaborn as sns\n",
        "import pandas_datareader as pdr\n",
        "import requests\n",
        "import plotly.figure_factory as ff\n",
        "from pandas_datareader import data\n",
        "import yfinance as yf\n",
        "\n",
        "# b)\tVisualización de datos.\n",
        "import plotly.express as px\n",
        "import matplotlib.pyplot as plt\n",
        "import plotly.graph_objects as go\n",
        "from plotly.subplots import make_subplots\n",
        "from itertools import cycle\n",
        "plt.style.use ('ggplot')\n",
        "%matplotlib inline\n",
        "\n",
        "# c)\tConstrucción de modelos usaremos estas Bibliotecas.\n",
        "import tensorflow as tf\n",
        "from tensorflow import keras\n",
        "from tensorflow.keras.models import Sequential\n",
        "from tensorflow.keras.layers import Activation,Dense, Dropout\n",
        "from tensorflow.keras.layers import LSTM\n",
        "from sklearn.model_selection import train_test_split\n",
        "from sklearn.preprocessing import StandardScaler\n",
        "from sklearn.preprocessing import MinMaxScaler\n",
        "\n",
        "# d)\tEvaluación.\n",
        "from sklearn.metrics import mean_squared_error\n",
        "from sklearn.metrics import mean_absolute_error\n",
        "from sklearn.metrics import explained_variance_score\n",
        "from sklearn.metrics import r2_score\n",
        "from sklearn.metrics import mean_poisson_deviance\n",
        "from sklearn.metrics import mean_gamma_deviance\n",
        "from sklearn.metrics import accuracy_score\n",
        "from statsmodels.tools.eval_measures import rmse\n",
        "from sklearn import metrics\n",
        "\n",
        "# e)\tNo presentar advertencias.\n",
        "import warnings\n",
        "# f)\tOtras Necesarias\n",
        "from copy import copy\n",
        "from scipy import stats"
      ],
      "metadata": {
        "id": "5i4SHgL8WLN8"
      },
      "execution_count": null,
      "outputs": []
    },
    {
      "cell_type": "code",
      "source": [
        "# Ingresar el Simbolo y los parámetros de la moneda digital Ej: BTC-USD,XRP-USD,ETH-BTC,JPM,AAPL,EURUSD=X,^IXIC,^GSPC,MSFT\n",
        "symbol = 'BTC-USD'\n",
        "stock= symbol\n",
        "interval = '1day' # Supports: 1min, 5min, 15min, 30min, 45min, 1h, 2h, 4h, 1day, 1week, 1month\n",
        "order = 'asc'\n",
        "start_date = '2000-01-01'\n",
        "end_date = '2022-12-01'\n",
        "Act_fin=yf.download(stock,start=start_date,end=end_date, progress=False)"
      ],
      "metadata": {
        "id": "pqeVlCTUWObX"
      },
      "execution_count": null,
      "outputs": []
    },
    {
      "cell_type": "code",
      "source": [
        "Act_fin"
      ],
      "metadata": {
        "id": "1lUV5DeJWQTN"
      },
      "execution_count": null,
      "outputs": []
    },
    {
      "cell_type": "code",
      "source": [
        "# Resetenado el index de la columna Fecha.\n",
        "Act_fin= Act_fin.reset_index()"
      ],
      "metadata": {
        "id": "rWaSN_eBWR-x"
      },
      "execution_count": null,
      "outputs": []
    },
    {
      "cell_type": "code",
      "source": [
        "# Renombrando las columnas \n",
        "df = Act_fin.rename(columns={'Date':'datetime','Open':'open','High':'high','Low':'low','Close':'close','Volume':'volume'})\n",
        "# Ordenar los datos según la fecha\n",
        "df = df.sort_values('datetime',ascending=True)\n",
        "df.head()"
      ],
      "metadata": {
        "id": "keaizJ7CWTEy"
      },
      "execution_count": null,
      "outputs": []
    },
    {
      "cell_type": "code",
      "source": [
        "# Describe que tipo de datos existen en las columnas, variables o elemento de la matriz.\n",
        "df.dtypes"
      ],
      "metadata": {
        "id": "pl3v5I86WUh_"
      },
      "execution_count": null,
      "outputs": []
    },
    {
      "cell_type": "markdown",
      "source": [
        "#2. Limpieza,Pre-procesamiento y Análisis exploratorio-EDA(Exploratory Data Analysis)."
      ],
      "metadata": {
        "id": "ByKniqyHWMti"
      }
    },
    {
      "cell_type": "markdown",
      "source": [
        "#2.1 Limpieza de datos, comprobación de valores nulos"
      ],
      "metadata": {
        "id": "_2lTMBNlWbFb"
      }
    },
    {
      "cell_type": "markdown",
      "source": [
        "La limpieza de datos: se define como la eliminación de datos ruidosos e irrelevantes.\n",
        "Limpieza en caso de valores faltantes.\n",
        "Limpieza de datos ruidosos, donde el ruido es un error aleatorio o de varianza.\n",
        "Entre otros.\n"
      ],
      "metadata": {
        "id": "YZ7f8SSqWqY0"
      }
    },
    {
      "cell_type": "code",
      "source": [
        "print('Total número de días presentes en el dataset: ',df.shape[0])\n",
        "print('Total número de Variables o Columnas presentes en el dataset: ',df.shape[1])"
      ],
      "metadata": {
        "id": "7jrFNvAnWsmd"
      },
      "execution_count": null,
      "outputs": []
    },
    {
      "cell_type": "code",
      "source": [
        "# Chekeando si existen valores nulos en los datos\n",
        "df.isnull().sum()\n",
        "print('Valores Nulos a Eliminar:',df.isnull().values.sum())\n",
        "print('Valores NA a Eliminar:',df.isnull().values.any())\n",
        "# Eliminando Valores Nulos, descartamos todos los valores nulos presentes en el conjunto de datos.\n",
        "df=df.dropna()\n",
        "print('Valores Nulos Remanentes:',df.isnull().values.sum())\n",
        "print('Valores NA:',df.isnull().values.any())"
      ],
      "metadata": {
        "id": "yY-fTqTPWuDY"
      },
      "execution_count": null,
      "outputs": []
    },
    {
      "cell_type": "code",
      "source": [
        "# Forma final del conjunto de datos después de tratar con valores nulos\n",
        "df.shape"
      ],
      "metadata": {
        "id": "E3b7ENl2WvYQ"
      },
      "execution_count": null,
      "outputs": []
    },
    {
      "cell_type": "markdown",
      "source": [
        "# 2.2 Pre-procesamiento de datos"
      ],
      "metadata": {
        "id": "3skVBsj6WyrE"
      }
    },
    {
      "cell_type": "code",
      "source": [
        "# Analizamos que tipos de datos existen para posteriormente tratarlos\n",
        "df.info()"
      ],
      "metadata": {
        "id": "NE4-NNRwWwVd"
      },
      "execution_count": null,
      "outputs": []
    },
    {
      "cell_type": "code",
      "source": [
        "#Por lo general la columna datetime es de tipo object (texto), para asegurarnos la convertiremos en formato de tiempo (Fecha y hora).\n",
        "df['datetime'] = pd.to_datetime(df['datetime'], format='%Y-%m-%d')\n",
        "df_y = df.loc[(df['datetime'] >= start_date)\n",
        "                     & (df['datetime'] <= end_date)]"
      ],
      "metadata": {
        "id": "R3S9yQgWW4Kk"
      },
      "execution_count": null,
      "outputs": []
    },
    {
      "cell_type": "code",
      "source": [
        "#Eliminar la Columna Precio Ajustado y Volumen\n",
        "df_y.drop(df_y[['Adj Close','volume']],axis=1)"
      ],
      "metadata": {
        "id": "nWQ1U_l2W5ih"
      },
      "execution_count": null,
      "outputs": []
    },
    {
      "cell_type": "code",
      "source": [
        "# Se convirtió el conjunto de datos a Mes\n",
        "df_mes= df_y.groupby(df_y['datetime'].dt.strftime('%B'))[['open','close']].mean(numeric_only=True)\n",
        "new_order = ['January', 'February', 'March', 'April', 'May', 'June', 'July', 'August', \n",
        "             'September', 'October', 'November', 'December']\n",
        "# Asignando el Index a la Fecha \n",
        "df_mes= df_mes.reindex(new_order, axis=0)\n",
        "df_mes"
      ],
      "metadata": {
        "id": "K0PNCCxnW7FF"
      },
      "execution_count": null,
      "outputs": []
    },
    {
      "cell_type": "code",
      "source": [
        "# Chekeando si existen valores nulos en los datos\n",
        "df_mes.isnull().sum()\n",
        "print('Valores Nulos a Eliminar:',df_mes.isnull().values.sum())\n",
        "print('Valores NA a Eliminar:',df_mes.isnull().values.any())\n",
        "# Eliminando Valores Nulos, descartamos todos los valores nulos presentes en el conjunto de datos.\n",
        "df_mes=df_mes.dropna()\n",
        "print('Valores Nulos Remanentes:',df_mes.isnull().values.sum())\n",
        "print('Valores NA:',df_mes.isnull().values.any())\n"
      ],
      "metadata": {
        "id": "huxB4KPsW8jX"
      },
      "execution_count": null,
      "outputs": []
    },
    {
      "cell_type": "code",
      "source": [
        "#Definimos una funcios para normalizar los precios de las monedas digitales en función de su precio\n",
        "def normalizacion(df):\n",
        "  x = df.copy()\n",
        "  # Se crea un ciclo for que recorra cada columna en data, excluyendo la columna de fecha, para comenzar desde el índice [1:], es decir, de la columna uno en adelante.\n",
        "  for i in x.columns[1:]:\n",
        "    x[i] = x[i]/x[i][0]\n",
        "  return x"
      ],
      "metadata": {
        "id": "Mc6VufIyW9xP"
      },
      "execution_count": null,
      "outputs": []
    },
    {
      "cell_type": "code",
      "source": [
        "# Función para trazar gráficos interactivos usando Plotly Express\n",
        "def ploteo_inter(df, title):\n",
        "  fig = px.line(title = title)\n",
        "#A continuación, se creará un bucle for para recorrer cada columna de nuestro marco de datos, excepto el primero, \n",
        "#y se tomará el objeto de fig.add_scatter para que comience a agregarle dispersiones, para que se pueda añadir frases a la misma. Así que voy a decir figura esa dispersión en el eje x. \n",
        "  for i in df.columns[1:]:\n",
        "    fig.add_scatter(x = df['datetime'], y = df[i], name = i)\n",
        "  fig.show()"
      ],
      "metadata": {
        "id": "6L7zeMxFW_f2"
      },
      "execution_count": null,
      "outputs": []
    },
    {
      "cell_type": "code",
      "source": [
        "# Función para trazar gráficos interactivos con mayores atributos\n",
        "def ploteo_linea(line1, line2, label1=None, label2=None, title='', lw=2):\n",
        "    fig, ax = plt.subplots(1, figsize=(13, 7))\n",
        "    ax.plot(line1, label=label1, linewidth=lw)\n",
        "    ax.plot(line2, label=label2, linewidth=lw)\n",
        "    ax.set_ylabel(symbol, fontsize=14)\n",
        "    ax.set_title(title, fontsize=16)\n",
        "    ax.legend(loc='best', fontsize=16);"
      ],
      "metadata": {
        "id": "mnLzY-mUXAuR"
      },
      "execution_count": null,
      "outputs": []
    },
    {
      "cell_type": "code",
      "source": [
        "# Función para evaluar las metricas generales obtenidos del modelo\n",
        "def evaluacion_metrica(X_true, X_pred, y_true, y_pred):\n",
        " \n",
        "    def mean_absolute_percentage_error(X_true, X_pred, y_true, y_pred): \n",
        "        X_true, X_pred, y_true, y_pred, y_true, y_pred = np.array(X_true), np.array(X_pred),np.array(y_true), np.array(y_pred)\n",
        "        return np.mean(np.abs(y_true - y_pred) / y_true) * 100\n",
        "        return np.mean(np.abs(X_true - X_pred) / X_true) * 100\n",
        "    print('Resultados de la métrica de evaluación:-')\n",
        "    print(\"-------------------------------------------------------------------------------------\")\n",
        "    print('Métricas de evaluación RMSE, MSE y MAE:-')\n",
        "    print('Train data RMSE es : ', math.sqrt(mean_squared_error(X_true,X_pred)))\n",
        "    print('Train data MSE es : ', mean_squared_error(X_true,X_pred))\n",
        "    print('Train data MAE es : ', mean_absolute_error(X_true,X_pred))\n",
        "    print(\"Test data RMSE es : \", math.sqrt(mean_squared_error(y_true,y_pred)))\n",
        "    print(\"Test data MSE es : \", mean_squared_error(y_true,y_pred))\n",
        "    print(\"Test data MAE es : \", mean_absolute_error(y_true,y_pred))\n",
        "    print(\"-------------------------------------------------------------------------------------\")\n",
        "    print('R square score for regression:-')\n",
        "    print(\"Train data R2 score es :\", r2_score(X_true, X_pred))\n",
        "    print(\"Test data R2 score es:\", r2_score(y_true, y_pred))\n",
        "    print(\"-------------------------------------------------------------------------------------\")\n",
        "    print('Mean Gamma deviance and Mean Poisson deviance:-')\n",
        "    print(f'Train data MGD es : , {metrics.mean_gamma_deviance(X_true, X_pred)}')\n",
        "    print(f'Train data MGD es : , {metrics.mean_gamma_deviance(y_true, y_pred)}')\n",
        "    print(\"Train data MGD es: \", mean_gamma_deviance(X_true, X_pred))\n",
        "    print(\"Test data MGD es : \", mean_gamma_deviance(y_true, y_pred))\n",
        "    print(\"Train data MPD es: \", mean_poisson_deviance(X_true, X_pred))\n",
        "    print(\"Test data MPD es : \", mean_poisson_deviance(y_true, y_pred))"
      ],
      "metadata": {
        "id": "zsXGCRBJXBY6"
      },
      "execution_count": null,
      "outputs": []
    },
    {
      "cell_type": "code",
      "source": [
        "#Se separa la fecha de entrenamiento (serie separada) para futuros trazados (mas adelante la usaremos como nuestro eje X)\n",
        "df_fechas = df['datetime']\n",
        "#Consultar últimas 15 fechas \n",
        "print(df_fechas.tail(15)) "
      ],
      "metadata": {
        "id": "n3rdMZUXXDrY"
      },
      "execution_count": null,
      "outputs": []
    },
    {
      "cell_type": "code",
      "source": [
        "# Visualización de Fechas y sus Precio de Apertura\n",
        "df_fechas_cierre = df[['datetime','close']]\n",
        "df_fechas_cierre "
      ],
      "metadata": {
        "id": "Na4APyohXGIT"
      },
      "execution_count": null,
      "outputs": []
    },
    {
      "cell_type": "code",
      "source": [
        "#Columnas (cols) con varias variables del precio para el entrenamiento\n",
        "cols = list(df)[1:5]#['Open', 'High', 'Low', 'Close']\n",
        "cols\n",
        "df_cols= df[cols]\n",
        "df_cols"
      ],
      "metadata": {
        "id": "WX4rQcfpXHZ0"
      },
      "execution_count": null,
      "outputs": []
    },
    {
      "cell_type": "code",
      "source": [
        "df_apertura = df['open']\n",
        "print(\"Forma del precio de Apertura dataframe:\", df_apertura.shape)"
      ],
      "metadata": {
        "id": "relbgjdaXKDz"
      },
      "execution_count": null,
      "outputs": []
    },
    {
      "cell_type": "code",
      "source": [
        "df_cierre = df['close']\n",
        "print(\"Forma del precio de Cierre dataframe:\", df_cierre.shape)"
      ],
      "metadata": {
        "id": "_Y2cUoFGXLUl"
      },
      "execution_count": null,
      "outputs": []
    },
    {
      "cell_type": "markdown",
      "source": [
        "# 2.3 Análisis exploratorio-EDA(Exploratory Data Analysis)."
      ],
      "metadata": {
        "id": "7t7QdwrmXMEJ"
      }
    },
    {
      "cell_type": "code",
      "source": [
        "df_fechas_cierre.describe().T"
      ],
      "metadata": {
        "id": "MLa6ggMlXO-B"
      },
      "execution_count": null,
      "outputs": []
    },
    {
      "cell_type": "markdown",
      "source": [
        "Se puede observar que el precio promedio de cierre del Activo durante el período de tiempo importado es de 12.819 USD\n",
        "El Precio Máximo es 67.566 USD y su precio mínimo fue de 178 USD.\n"
      ],
      "metadata": {
        "id": "PXld_CB0XQqj"
      }
    },
    {
      "cell_type": "code",
      "source": [
        "df.describe().T"
      ],
      "metadata": {
        "id": "5fLesMC1XTa-"
      },
      "execution_count": null,
      "outputs": []
    },
    {
      "cell_type": "code",
      "source": [
        "# Gráficos interactivos para los datos\n",
        "ploteo_inter(df_fechas_cierre, 'Precios de Cierre')\n",
        "ploteo_inter(normalizacion(df_fechas_cierre),'Normalización de los Precios de Cierre')"
      ],
      "metadata": {
        "id": "o_4qNyQAXVG1"
      },
      "execution_count": null,
      "outputs": []
    },
    {
      "cell_type": "code",
      "source": [
        "# Análisis Año 2021\n",
        "df['datetime'] = pd.to_datetime(df['datetime'], format='%Y-%m-%d')\n",
        "# Ingresar rango del año\n",
        "y_2021 = df.loc[(df['datetime'] >= '2021-01-01')\n",
        "                     & (df['datetime'] < '2021-12-31')]\n",
        "mensual= y_2021.groupby(y_2021['datetime'].dt.strftime('%B'))[['open','close']].mean()\n",
        "new_order = ['January', 'February', 'March', 'April', 'May', 'June', 'July', 'August', \n",
        "             'September', 'October', 'November', 'December']\n",
        "mensual = mensual.reindex(new_order, axis=0)\n",
        "mensual"
      ],
      "metadata": {
        "id": "mUgsCfy9XXAA"
      },
      "execution_count": null,
      "outputs": []
    },
    {
      "cell_type": "code",
      "source": [
        "fig = go.Figure()\n",
        "\n",
        "fig.add_trace(go.Bar(\n",
        "    x=mensual.index,\n",
        "    y=mensual['open'],\n",
        "    name='Precio de Apertura',\n",
        "    marker_color='crimson'\n",
        "))\n",
        "fig.add_trace(go.Bar(\n",
        "    x=mensual.index,\n",
        "    y=mensual['close'],\n",
        "    name='Precio de Cierre',\n",
        "    marker_color='lightsalmon'\n",
        "))\n",
        "\n",
        "fig.update_layout(barmode='group', xaxis_tickangle=-45, \n",
        "                  title='Comparación mensual entre el precio de apertura y cierre Año 2021')\n",
        "fig.show()\n",
        "\n",
        "y_2021.groupby(y_2021['datetime'].dt.strftime('%B'))['low'].min()\n",
        "mensual_h = y_2021.groupby(df['datetime'].dt.strftime('%B'))['high'].max()\n",
        "mensual_h = mensual_h.reindex(new_order, axis=0)\n",
        "\n",
        "mensual_l = y_2021.groupby(y_2021['datetime'].dt.strftime('%B'))['low'].min()\n",
        "mensual_l = mensual_l.reindex(new_order, axis=0)\n",
        "\n",
        "fig = go.Figure()\n",
        "fig.add_trace(go.Bar(\n",
        "    x=mensual_h.index,\n",
        "    y=mensual_h,\n",
        "    name='Precio Máximo',\n",
        "    marker_color='rgb(0, 153, 204)'\n",
        "))\n",
        "fig.add_trace(go.Bar(\n",
        "    x=mensual_l.index,\n",
        "    y=mensual_l,\n",
        "    name='Precio Mínimo',\n",
        "    marker_color='rgb(255, 128, 0)'\n",
        "))\n",
        "\n",
        "fig.update_layout(barmode='group', \n",
        "                  title=' Precio mensual Máximo y Mínimo Año 2021')\n",
        "fig.show()"
      ],
      "metadata": {
        "id": "eUaxwNZfXYxc"
      },
      "execution_count": null,
      "outputs": []
    },
    {
      "cell_type": "code",
      "source": [
        "names = cycle(['Precio de Apertura','Precio de Cierre','Precio Máximo','Precio Mínimo'])\n",
        "\n",
        "fig = px.line(y_2021, x=y_2021.datetime, y=[y_2021['open'], y_2021['close'], \n",
        "                                          y_2021['high'], y_2021['low']],\n",
        "             labels={'datetime': 'Año 2021','value':'Precios'})\n",
        "fig.update_layout(title_text='Gráfico de análisis de Precios Año 2021', font_size=15, font_color='black',legend_title_text='Parámetros de Stock')\n",
        "fig.for_each_trace(lambda t:  t.update(name = next(names)))\n",
        "fig.update_xaxes(showgrid=False)\n",
        "fig.update_yaxes(showgrid=False)\n",
        "\n",
        "fig.show()"
      ],
      "metadata": {
        "id": "wzNan9gnXav9"
      },
      "execution_count": null,
      "outputs": []
    },
    {
      "cell_type": "markdown",
      "source": [
        "Se pudo observar que el año 2021, los datos muestran cierta estacionalidad, debido a que en los meses de Junio, Julio y agosto bajó drásticamente el precio de esta moneda digital para volver a subir durante el mes de septiembre. Además se puede observar que el precio durante el año 2021 llega a dos máximos históricos ( 64.863 dólares el 14 de abril y $68.789 dólares el 10 de noviembre).Se puede observar su alta volatilidad pero en términos generales fue un buen año para esta moneda digital."
      ],
      "metadata": {
        "id": "6w99I6FjXcvD"
      }
    },
    {
      "cell_type": "code",
      "source": [
        "# Análisis Año 2022\n",
        "df['datetime'] = pd.to_datetime(df['datetime'], format='%Y-%m-%d')\n",
        "# Ingresar rango del año\n",
        "y_2022 = df.loc[(df['datetime'] >= '2022-01-01')\n",
        "                     & (df['datetime'] < '2022-12-31')]\n",
        "mensual= y_2022.groupby(y_2022['datetime'].dt.strftime('%B'))[['open','close']].mean()\n",
        "new_order = ['January', 'February', 'March', 'April', 'May', 'June', 'July', 'August', \n",
        "             'September', 'October', 'November', 'December']\n",
        "mensual = mensual.reindex(new_order, axis=0)\n",
        "mensual"
      ],
      "metadata": {
        "id": "IKZfMTPjXefC"
      },
      "execution_count": null,
      "outputs": []
    },
    {
      "cell_type": "code",
      "source": [
        "fig = go.Figure()\n",
        "\n",
        "fig.add_trace(go.Bar(\n",
        "    x=mensual.index,\n",
        "    y=mensual['open'],\n",
        "    name='Precio de Apertura',\n",
        "    marker_color='crimson'\n",
        "))\n",
        "fig.add_trace(go.Bar(\n",
        "    x=mensual.index,\n",
        "    y=mensual['close'],\n",
        "    name='Precio de Cierre',\n",
        "    marker_color='lightsalmon'\n",
        "))\n",
        "\n",
        "fig.update_layout(barmode='group', xaxis_tickangle=-45, \n",
        "                  title='Comparación mensual entre el precio de apertura y cierre Año 2022')\n",
        "fig.show()\n",
        "\n",
        "y_2022.groupby(y_2022['datetime'].dt.strftime('%B'))['low'].min()\n",
        "mensual_h = y_2022.groupby(df['datetime'].dt.strftime('%B'))['high'].max()\n",
        "mensual_h = mensual_h.reindex(new_order, axis=0)\n",
        "\n",
        "mensual_l = y_2022.groupby(y_2022['datetime'].dt.strftime('%B'))['low'].min()\n",
        "mensual_l = mensual_l.reindex(new_order, axis=0)\n",
        "\n",
        "fig = go.Figure()\n",
        "fig.add_trace(go.Bar(\n",
        "    x=mensual_h.index,\n",
        "    y=mensual_h,\n",
        "    name='Precio Máximo',\n",
        "    marker_color='rgb(0, 153, 204)'\n",
        "))\n",
        "fig.add_trace(go.Bar(\n",
        "    x=mensual_l.index,\n",
        "    y=mensual_l,\n",
        "    name='Precio Mínimo',\n",
        "    marker_color='rgb(255, 128, 0)'\n",
        "))\n",
        "\n",
        "fig.update_layout(barmode='group', \n",
        "                  title=' Precio mensual Máximo y Mínimo Año 2022')\n",
        "fig.show()\n"
      ],
      "metadata": {
        "id": "r4u343RVXguY"
      },
      "execution_count": null,
      "outputs": []
    },
    {
      "cell_type": "code",
      "source": [
        "names = cycle(['Precio de Apertura','Precio de Cierre','Precio Máximo','Precio Mínimo'])\n",
        "\n",
        "fig = px.line(y_2022, x=y_2022.datetime, y=[y_2022['open'], y_2022['close'], \n",
        "                                          y_2022['high'], y_2022['low']],\n",
        "             labels={'datetime': 'Año 2022','value':'Precios'})\n",
        "fig.update_layout(title_text='Gráfico de análisis de Precios Año 2022', font_size=15, font_color='black',legend_title_text='Parámetros de Stock')\n",
        "fig.for_each_trace(lambda t:  t.update(name = next(names)))\n",
        "fig.update_xaxes(showgrid=False)\n",
        "fig.update_yaxes(showgrid=False)\n",
        "\n",
        "fig.show()"
      ],
      "metadata": {
        "id": "d5pJtEb_Xil1"
      },
      "execution_count": null,
      "outputs": []
    },
    {
      "cell_type": "markdown",
      "source": [
        "Según el análisis realizado en el año 2022, se observa que el precio tiene una clara tendencia a la baja que comienza a principios de año. Por otro lado, nuevamente su alta volatilidad e incertidumbre como el año anterior vuelve a reaparecer. Durante el mes de Noviembre de este año se detuvo su caída y su precio se mantuvo alrededor de los 16.000 dolares. Por lo que el boom que alcanzó el año anterior, está lejos de volver durante lo que queda de año."
      ],
      "metadata": {
        "id": "drKm4ASjXkMK"
      }
    },
    {
      "cell_type": "markdown",
      "source": [
        "Se puede observar que el precio a fines del año 2020 rompe su tendencia al alza. Se puede observar que durante el año 2021 alcanzó dos máximos históricos y su alta volatilidad durante los dos últimos años. Desde el mes de marzo del año 2022 que la tendencia es bajista y su caída se comienza a desacelerar durante el mes de julio de este año y en el mes de Noviembre su precio se mantuvo en soporte alrededor de los 16.000 USD. Por lo que el boom que alcanzó el año anterior, posiblemente este año ya no se cumpla."
      ],
      "metadata": {
        "id": "iUlAED-uXmMg"
      }
    },
    {
      "cell_type": "markdown",
      "source": [
        "# 3. Selección o reducción de Datos "
      ],
      "metadata": {
        "id": "diymo7rhXol4"
      }
    },
    {
      "cell_type": "markdown",
      "source": [
        "Selección de datos o reducción de datos: se define como el proceso en el que los datos relevantes para el análisis, se deciden y recuperan del conglomerado de datos. Se procederá a la selección de los datos para utilizar en el entrenamiento en el modelo LSTM (memoria larga y corto plazo)."
      ],
      "metadata": {
        "id": "VhcPyikcXreJ"
      }
    },
    {
      "cell_type": "markdown",
      "source": [
        "#3.1 Selección el conjunto de datos a entrenar "
      ],
      "metadata": {
        "id": "T86T6qCLXtjj"
      }
    },
    {
      "cell_type": "code",
      "source": [
        "# Se realizará una copia del DF original u otro df para entrenar\n",
        "df1=df_fechas_cierre.copy()\n",
        "df_entrenar=df1\n",
        "df_entrenar"
      ],
      "metadata": {
        "id": "5as4C6pkXvHF"
      },
      "execution_count": null,
      "outputs": []
    },
    {
      "cell_type": "markdown",
      "source": [
        "#3.1.1 Selección del rango de fechas que se desea evaluar"
      ],
      "metadata": {
        "id": "5zP7fe8vXw1v"
      }
    },
    {
      "cell_type": "markdown",
      "source": [
        "Dado que el precio de Bitcoin ha fluctuado drásticamente de 400 dólares en el año 2015 a 18.000 dólares en el año 2018 a 3.500 dólares en el año 2019 y al 2021 a $67.000 dólares (valores aproximados), sólo consideraremos 820 días para evitar este tipo de fluctuación en los datos. Además hay que estar atento a los ciclos económicos y análisis de sentimientos de los usuarios y noticias financieras."
      ],
      "metadata": {
        "id": "cefPyUuzXzI2"
      }
    },
    {
      "cell_type": "code",
      "source": [
        "# Se Seleccionara los datos que se desean evaluar (dentro de un año o más). \n",
        "df_entrenar= df_entrenar[df_entrenar['datetime'] > '2022-05-01']\n",
        "stock_cierre = df_entrenar.copy()\n",
        "\n",
        "print(\" Forma del Marco de datos (dataframe):\", df_entrenar.shape)\n",
        "print(\"Total de datos para la predicción: \",df_entrenar.shape[0])"
      ],
      "metadata": {
        "id": "Aja-Ls2CX2X4"
      },
      "execution_count": null,
      "outputs": []
    },
    {
      "cell_type": "code",
      "source": [
        "df_entrenar"
      ],
      "metadata": {
        "id": "TOI43TVLX3pQ"
      },
      "execution_count": null,
      "outputs": []
    },
    {
      "cell_type": "code",
      "source": [
        "close='close'"
      ],
      "metadata": {
        "id": "lmT2wJQfX4sN"
      },
      "execution_count": null,
      "outputs": []
    },
    {
      "cell_type": "code",
      "source": [
        "# Gráfico del Marco de datos a entrenar\n",
        "fig = px.line(df_entrenar, x=df_entrenar.datetime\t, y=df_entrenar.close,labels={'datetime':'Periodos de tiempo Seleccionados','close':'Precios'})\n",
        "fig.update_traces(marker_line_width=2, opacity=0.8, marker_line_color='orange')\n",
        "fig.update_layout(title_text='Períodos considerado para predecir el precio de cierre de la moneda digital', \n",
        "                  plot_bgcolor='white', font_size=15, font_color='black')\n",
        "fig.update_xaxes(showgrid=False)\n",
        "fig.update_yaxes(showgrid=False)\n",
        "fig.show()"
      ],
      "metadata": {
        "id": "SlJDdEanX5-T"
      },
      "execution_count": null,
      "outputs": []
    },
    {
      "cell_type": "markdown",
      "source": [
        "# 4. Transformación de los datos "
      ],
      "metadata": {
        "id": "0zKma5_mX7E3"
      }
    },
    {
      "cell_type": "markdown",
      "source": [
        "Transformación de datos: se define como el proceso de transformar los datos a la forma adecuada requerida por el algoritmo computacional usado.\n",
        "\n",
        "Normalizar o escalar los datos, y muchas veces incluso se deja la información en algún formato vectorial."
      ],
      "metadata": {
        "id": "0ypX_692X-7U"
      }
    },
    {
      "cell_type": "markdown",
      "source": [
        "# 4.1 Normalización/Estandarización de datos"
      ],
      "metadata": {
        "id": "Kcr4j1zAYARr"
      }
    },
    {
      "cell_type": "markdown",
      "source": [
        "La normalización es una técnica que se aplica a menudo como parte de la preparación de datos para el aprendizaje automático. El objetivo de la normalización es cambiar los valores de las columnas numéricas en el conjunto de datos para usar una escala común, sin distorsionar las diferencias en los rangos de valores ni perder información.\n",
        "MinMaxScaler. Para cada valor en una característica, MinMaxScaler subtrae o resta el valor mínimo en la característica y luego lo divide por el rango. El rango es la diferencia entre el máximo original y el mínimo original. MinMaxScaler conserva la forma de la distribución original.\n",
        "\n",
        "LSTM usa sigmoid and tanh que son sensibles a la magnitud, por lo que los valores deben normalizarse, debido a que pueden existir valores muy distintos y escalar standar es una buena idea por lo general se incluye especialemente en la columna volumen donde hay muchas mas transacciones."
      ],
      "metadata": {
        "id": "JLtVC5QSYDnN"
      }
    },
    {
      "cell_type": "code",
      "source": [
        "df_entrenar.dtypes"
      ],
      "metadata": {
        "id": "LYdwafmYYFKb"
      },
      "execution_count": null,
      "outputs": []
    },
    {
      "cell_type": "code",
      "source": [
        "# Normalización de los datos usando MinMax Scaler y eliminando la columna de fecha\n",
        "del df_entrenar['datetime']\n",
        "scaler = MinMaxScaler(feature_range = (0, 1))\n",
        "df_entrenar_sc= scaler.fit(df_entrenar)\n",
        "df_entrenar_sc = scaler.transform(df_entrenar)\n",
        "print(df_entrenar_sc.shape)"
      ],
      "metadata": {
        "id": "e3uNNMnPYGms"
      },
      "execution_count": null,
      "outputs": []
    },
    {
      "cell_type": "markdown",
      "source": [
        "# 5. Minería de datos: Construcción del modelo LSTM"
      ],
      "metadata": {
        "id": "mNd5ZZpwYIw7"
      }
    },
    {
      "cell_type": "markdown",
      "source": [
        "Minería de datos: se define como el uso de técnicas inteligentes sobre los datos para extraer patrones potencialmente útiles.\n",
        "\n",
        " ▪ Transforma los datos relevantes de la tarea en patrones.\n",
        "\n",
        " ▪ Aquí se decide el objetivo del modelo, ya que se aplica clasificación o agrupamiento."
      ],
      "metadata": {
        "id": "ijCerHXPYKmX"
      }
    },
    {
      "cell_type": "markdown",
      "source": [
        "# 5.1 División para entrenamiento y prueba"
      ],
      "metadata": {
        "id": "kq3mSbXFYMWl"
      }
    },
    {
      "cell_type": "markdown",
      "source": [
        "Generalmente se considera la regla 75-25. Esto quiere decir, que para la separación de los datos de entrenamiento y prueba, se considera un 75% de los datos para el conjunto de entrenamiento, y un 25% de los datos como conjunto de prueba o testeo.\n",
        "\n",
        "\n",
        "El conjunto de datos se divide en 75% para entrenamiento y 25% para prueba.\n",
        "Conjunto de entrenamiento: utilizado para el entrenamiento de modelos.\n",
        "Conjunto de prueba: utilizado para probar el modelo entrenado.\n",
        "Asegúrese de que el modelo entrenado nunca antes haya visto el conjunto de datos de prueba."
      ],
      "metadata": {
        "id": "SC2vVqgZYOPQ"
      }
    },
    {
      "cell_type": "code",
      "source": [
        "#Listas vacías que se completarán con datos de entrenamiento formateados\n",
        "train_data_X = []\n",
        "test_data_y = []"
      ],
      "metadata": {
        "id": "345fjUICYP_G"
      },
      "execution_count": null,
      "outputs": []
    },
    {
      "cell_type": "code",
      "source": [
        "# Número de días pasados ​​que queremos usar para predecir el futuro...\n",
        "n_ultimo = 15\n",
        "# Número de días que queremos mirar hacia el futuro en función de los días pasados..\n",
        "n_futuro = 30  "
      ],
      "metadata": {
        "id": "3S-Nci3tYREc"
      },
      "execution_count": null,
      "outputs": []
    },
    {
      "cell_type": "code",
      "source": [
        "# División del conjunto de entrenamiento como 75% y 25% conjunto de prueba para univarible\n",
        "entrenamiento= 0.75\n",
        "test= 0.25\n",
        "porc_entrena=int(len(df_entrenar_sc)*entrenamiento)\n",
        "porc_prueba=len(df_entrenar_sc)-porc_entrena\n",
        "train_data_X,test_data_y=df_entrenar_sc[0:porc_entrena,:],df_entrenar_sc[porc_entrena:len(df_entrenar_sc),:1]\n",
        "print(\"Entramiento_data: \", train_data_X.shape)\n",
        "print(\"Prueba_data: \", test_data_y.shape)"
      ],
      "metadata": {
        "id": "0-v3CxGkYSKT"
      },
      "execution_count": null,
      "outputs": []
    },
    {
      "cell_type": "code",
      "source": [
        "# Vializamos el conjunto de entrenamiento y prueba\n",
        "train_data = df_entrenar.iloc[porc_entrena:]\n",
        "test_data = df_entrenar.iloc[:porc_entrena]\n",
        "ploteo_linea(train_data[close], test_data[close], 'Prueba', 'Entrenamiento', title='')"
      ],
      "metadata": {
        "id": "zLTznyKgYTer"
      },
      "execution_count": null,
      "outputs": []
    },
    {
      "cell_type": "code",
      "source": [
        "# convertir un array de valores into a dataset matrix\n",
        "def create_dataset(dataset, time_step=1):\n",
        "    train_data_X, test_data_y = [], []\n",
        "    for i in range(len(dataset)-time_step-1):\n",
        "        a = dataset[i:(i+time_step), 0]   ###i=0, 0,1,2,3-----99   100 \n",
        "        train_data_X.append(a)\n",
        "        test_data_y.append(dataset[i + time_step, 0])\n",
        "    return np.array(train_data_X), np.array(test_data_y)"
      ],
      "metadata": {
        "id": "nmh8RKL4YTRU"
      },
      "execution_count": null,
      "outputs": []
    },
    {
      "cell_type": "code",
      "source": [
        "# Número de días pasados ​​que queremos usar para predecir el futuro.\n",
        "time_step = n_ultimo\n",
        "X_train, y_train = create_dataset(train_data_X, time_step)\n",
        "X_test, y_test = create_dataset(test_data_y, time_step)\n",
        "print(\"X_train: \", X_train.shape)\n",
        "print(\"y_train: \", y_train.shape)\n",
        "print(\"X_test: \", X_test.shape)\n",
        "print(\"y_test\", y_test.shape)\n"
      ],
      "metadata": {
        "id": "yARcruKDYV94"
      },
      "execution_count": null,
      "outputs": []
    },
    {
      "cell_type": "code",
      "source": [
        "# reformar la entrada para que sea[samples, time steps, features] que se requiere para LSTM\n",
        "# Reformar las matrices 1D,2D a matrices de 3D para alimentar el modelo LSTM\n",
        "X_train =X_train.reshape(X_train.shape[0],X_train.shape[1] , 1)\n",
        "X_test = X_test.reshape(X_test.shape[0],X_test.shape[1] , 1)\n",
        "print(\"X_train: \", X_train.shape)\n",
        "print(\"X_test: \", X_test.shape)"
      ],
      "metadata": {
        "id": "mPsD1WELYXxf"
      },
      "execution_count": null,
      "outputs": []
    },
    {
      "cell_type": "markdown",
      "source": [
        "#5.2 Modelo LSTM"
      ],
      "metadata": {
        "id": "6swyKZQDYZkt"
      }
    },
    {
      "cell_type": "markdown",
      "source": [
        "# 5.2.1 Parámetros clave para LSTM con Keras"
      ],
      "metadata": {
        "id": "pHDTd0xYYbjR"
      }
    },
    {
      "cell_type": "markdown",
      "source": [
        "Algunos parámetros clave para ajustar el modelo LSTM.\n",
        "\n",
        "* **hidden_layer_sizes:** Debe proporcionar una cantidad de capas ocultas y neuronas para cada capa oculta. Por ejemplo, hidden_layer_sizes – (5,3,3) significa que hay tres capas ocultas y el número de neuronas para la capa uno es 5, para la capa dos es 3 y para la capa tres es 3, respectivamente. El valor predeterminado es (100), es decir, una capa oculta con 100 neuronas.\n",
        "* **activation:** Esta es la función de activación de una capa oculta; hay cuatro funciones de activación disponibles para su uso; el valor predeterminado es \"relu\".\n",
        "     * relu: La función de unidad lineal rectificada, devuelve $f(x) = max(0, x)$\n",
        "     * logística: La función sigmoidea logística, devuelve f(x) = 1 / (1 + exp(-x)).\n",
        "     * identidad: activación sin operación, útil para implementar un cuello de botella lineal, devuelve f(x) = x\n",
        "     * tanh: La función tan hiperbólica, devuelve $f(x) = tanh(x)$.\n",
        "* **solver:** Esto es para optimizar el peso. Hay tres opciones disponibles, la predeterminada es \"adam\".\n",
        "     * adam: Optimizador basado en gradiente estocástico propuesto por Diederik Kingma y Jimmy Ba, que funciona bien para un gran conjunto de datos\n",
        "     * lbfgs: Pertenece a la familia de métodos cuasi-Newton, funciona bien para conjuntos de datos pequeños\n",
        "     * sgd: Descenso de gradiente estocástico\n",
        "* **max_iter:** Este es el número máximo de iteraciones para que el solucionador converja, el valor predeterminado es 200.\n",
        "* **learning_rate_init:** Esta es la tasa de aprendizaje inicial para controlar el tamaño de paso para actualizar los pesos (solo se aplica a los solucionadores sgd/ adam), el valor predeterminado es 0,001."
      ],
      "metadata": {
        "id": "oS4RLHPNYehm"
      }
    },
    {
      "cell_type": "code",
      "source": [
        "lstm_model = Sequential()\n",
        "#Entradas\n",
        "lstm_model.add(LSTM(228,input_shape=(X_train.shape[1],1),activation=\"relu\", return_sequences=True))\n",
        "#lstm_model.add(Dropout(0.4))\n",
        "lstm_model.add(LSTM(114, activation='relu', return_sequences=True))\n",
        "#lstm_model.add(Dropout(0.3))\n",
        "lstm_model.add(LSTM(57,activation= 'relu', return_sequences=False))\n",
        "#lstm_model.add(Dropout(0.2))\n",
        "#Salidas\n",
        "lstm_model.add(Dense(1))\n",
        "\n",
        "lstm_model.compile(optimizer='adam', loss='mean_squared_error', metrics= ['accuracy'])\n",
        "lstm_model.summary()"
      ],
      "metadata": {
        "id": "jE4AHLjyYg8b"
      },
      "execution_count": null,
      "outputs": []
    },
    {
      "cell_type": "markdown",
      "source": [
        "Donde la primera capa de entrada y la dimensión es de 15 días hacia atrás y 228 neuronas \"[(None, 15, 228)]\" y 209.760 parámetros entrenables.\n",
        " \n",
        "Luego tengo la segunda capa (LSTM): que tiene 114 neuronas (None, 15, 114) y 156.408 parámetros entrenables.\n",
        " \n",
        "Hay a continuación otra red lstm(LSTM) 57 neuronas que tiene 39.216 parámetros entrenables.\n",
        "Y luego la salida  de la capa densa que tiene 1 variable (None, 1) y 151 parámetros entrenables.\n",
        "Entonces, en total, con la construcción de las líneas de códigos antes mencionadas, se van a obtener 405,442 parámetros entrenables, que es bastante sorprendente y óptimo."
      ],
      "metadata": {
        "id": "K2XU0GOkYjFN"
      }
    },
    {
      "cell_type": "markdown",
      "source": [
        "# 5.2.2 Ajuste del Modelo LSTM"
      ],
      "metadata": {
        "id": "r8B0q2JQYk4M"
      }
    },
    {
      "cell_type": "code",
      "source": [
        "history = lstm_model.fit(X_train,y_train,validation_data=(X_test,y_test),epochs=20,batch_size=32,verbose=1)"
      ],
      "metadata": {
        "id": "XbpSr7XIYood"
      },
      "execution_count": null,
      "outputs": []
    },
    {
      "cell_type": "markdown",
      "source": [
        "#6. Evaluación del Modelo LSTM"
      ],
      "metadata": {
        "id": "MNdHJFcgYqgr"
      }
    },
    {
      "cell_type": "markdown",
      "source": [
        "Evaluación de patrones: se define como la interpretación de los resultados, utilizando para esto medidas estándar como reglas de asociación, confianza, entre otros.\n",
        "\n",
        "Encuentre la puntuación de cada patrón. Utilice resúmenes y visualización para que los datos sean comprensibles para el usuario.\n"
      ],
      "metadata": {
        "id": "GJqcMNegYuA-"
      }
    },
    {
      "cell_type": "markdown",
      "source": [
        "#6.1 Gráfico de Pérdidas(Loss) vs Validación de pérdidas"
      ],
      "metadata": {
        "id": "_EA-lz6cYzit"
      }
    },
    {
      "cell_type": "code",
      "source": [
        "loss = history.history['loss']\n",
        "val_loss = history.history['val_loss']\n",
        "epochs = range(len(loss))\n",
        "plt.plot(epochs, loss, 'r', label='Pérdida de entrenamiento')\n",
        "plt.plot(epochs, val_loss, 'b', label='Validación de Pérdidas')\n",
        "plt.title('Pérdida de entrenamiento y Validación de Pérdidas')\n",
        "plt.legend(loc=0)\n",
        "plt.figure()"
      ],
      "metadata": {
        "id": "TMrWE-pbY1Pm"
      },
      "execution_count": null,
      "outputs": []
    },
    {
      "cell_type": "code",
      "source": [
        "#Realización de la Predicción\n",
        "entrenar_predict=lstm_model.predict(X_train)\n",
        "test_predict=lstm_model.predict(X_test)\n",
        "entrenar_predict.shape, test_predict.shape"
      ],
      "metadata": {
        "id": "cg1TwVLmY29j"
      },
      "execution_count": null,
      "outputs": []
    },
    {
      "cell_type": "code",
      "source": [
        "# Transformar de nuevo a la forma original\n",
        "entrenar_predict = scaler.inverse_transform(entrenar_predict)\n",
        "test_predict = scaler.inverse_transform(test_predict)\n"
      ],
      "metadata": {
        "id": "_AIIbSrnY5IE"
      },
      "execution_count": null,
      "outputs": []
    },
    {
      "cell_type": "code",
      "source": [
        "original_ytrain = scaler.inverse_transform(y_train.reshape(-1,1)) \n",
        "original_ytest = scaler.inverse_transform(y_test.reshape(-1,1)) "
      ],
      "metadata": {
        "id": "Kw_aUjKkY6tE"
      },
      "execution_count": null,
      "outputs": []
    },
    {
      "cell_type": "markdown",
      "source": [
        "#6.2 Métricas de Evaluación del modelo"
      ],
      "metadata": {
        "id": "vDgG0XJlY8r3"
      }
    },
    {
      "cell_type": "code",
      "source": [
        "evaluacion_metrica(entrenar_predict, original_ytrain, test_predict, original_ytest)"
      ],
      "metadata": {
        "id": "GgITTYmiY_Dz"
      },
      "execution_count": null,
      "outputs": []
    },
    {
      "cell_type": "markdown",
      "source": [
        "Existen una visión general de las diferentes métricas presentadas, pero nos centraremos en la métrica del R-cuadrado que nos indica la bondad o la aptitud del modelo y además las variables independientes seleccionadas que explican la variabilidad en sus variables dependientes. El Test data R2 score es: 0.73, es decir,el modelo puede explicar el 73% de la varianza. Mientras mayor sea la varianza explicada por el modelo, más cerca están los puntos de los datos de la línea de regresión ajustada."
      ],
      "metadata": {
        "id": "YhXPmPzFZAC3"
      }
    },
    {
      "cell_type": "markdown",
      "source": [
        "#6.3 Comparación del precio de cierre original de la Moneda Digital y el precio de cierre previsto"
      ],
      "metadata": {
        "id": "FutpqtQeZCIc"
      }
    },
    {
      "cell_type": "code",
      "source": [
        "# Predicciones de cambios de entrenamiento para graficar\n",
        "look_back=time_step\n",
        "trainPredictPlot = np.empty_like(df_entrenar_sc)\n",
        "trainPredictPlot[:, :] = np.nan\n",
        "trainPredictPlot[look_back:len(entrenar_predict)+look_back, :] = entrenar_predict\n",
        "print(\"Predicción de datos Entrenados: \", trainPredictPlot.shape)\n",
        "\n",
        "# Predicciones de prueba de cambio para graficar\n",
        "testPredictPlot = np.empty_like(df_entrenar_sc)\n",
        "testPredictPlot[:, :] = np.nan\n",
        "testPredictPlot[len(entrenar_predict)+(look_back*2)+1:len(df_entrenar_sc)-1, :] = test_predict\n",
        "print(\"Predicción de datos Prueba: \", testPredictPlot.shape)\n",
        "\n",
        "names = cycle(['Precios de Cierre Original','Entrenamiento Predicción de Precios de Cierre','Test Predicción de Precios de Cierre'])\n",
        "\n",
        "\n",
        "plotdf = pd.DataFrame({'datetime': stock_cierre['datetime'],\n",
        "                       'original_cierre': stock_cierre['close'],\n",
        "                      'train_predicted_cierre': trainPredictPlot.reshape(1,-1)[0].tolist(),\n",
        "                      'test_predicted_cierre': testPredictPlot.reshape(1,-1)[0].tolist()})\n",
        "\n",
        "fig = px.line(plotdf,x=plotdf['datetime'], y=[plotdf['original_cierre'],plotdf['train_predicted_cierre'],\n",
        "                                          plotdf['test_predicted_cierre']],\n",
        "              labels={'value':'Precios','datetime': 'Periodo de tiempo'})\n",
        "fig.update_layout(title_text='Comparación entre el precio de cierre original vs Precio de Cierre pronosticado',\n",
        "                  plot_bgcolor='white', font_size=15, font_color='black', legend_title_text='Precios de Cierre')\n",
        "fig.for_each_trace(lambda t:  t.update(name = next(names)))\n",
        "\n",
        "fig.update_xaxes(showgrid=False)\n",
        "fig.update_yaxes(showgrid=False)\n",
        "fig.show()"
      ],
      "metadata": {
        "id": "cpZLIYASZEs8"
      },
      "execution_count": null,
      "outputs": []
    },
    {
      "cell_type": "markdown",
      "source": [
        "#7. Resultados"
      ],
      "metadata": {
        "id": "APKwoByXZGlR"
      }
    },
    {
      "cell_type": "markdown",
      "source": [],
      "metadata": {
        "id": "5HnCjmE-yw6x"
      }
    },
    {
      "cell_type": "markdown",
      "source": [
        "# 7.1 Salida de los próximos días previstos de 30 días"
      ],
      "metadata": {
        "id": "CttIYZm3ZIE9"
      }
    },
    {
      "cell_type": "code",
      "source": [
        "x_input=test_data_y[len(test_data_y)-time_step:].reshape(1,-1)\n",
        "temp_input=list(x_input)\n",
        "temp_input=temp_input[0].tolist()\n",
        "\n",
        "from numpy import array\n",
        "\n",
        "lst_output=[]\n",
        "n_steps=time_step\n",
        "i=0\n",
        "pred_days = n_futuro\n",
        "while(i<pred_days):\n",
        "    \n",
        "    if(len(temp_input)>time_step):\n",
        "        \n",
        "        x_input=np.array(temp_input[1:])\n",
        "        #print(\"{} día de entrada {}\".format(i,x_input))\n",
        "        x_input = x_input.reshape(1,-1)\n",
        "        x_input = x_input.reshape((1, n_steps, 1))\n",
        "        \n",
        "        yhat = lstm_model.predict(x_input, verbose=0)\n",
        "        #print(\"{} día de salida {}\".format(i,yhat))\n",
        "        temp_input.extend(yhat[0].tolist())\n",
        "        temp_input=temp_input[1:]\n",
        "        #print(temp_input)\n",
        "       \n",
        "        lst_output.extend(yhat.tolist())\n",
        "        i=i+1\n",
        "        \n",
        "    else:\n",
        "        \n",
        "        x_input = x_input.reshape((1, n_steps,1))\n",
        "        yhat = lstm_model.predict(x_input, verbose=0)\n",
        "        temp_input.extend(yhat[0].tolist())\n",
        "        \n",
        "        lst_output.extend(yhat.tolist())\n",
        "        i=i+1\n",
        "               \n",
        "print(\"Salida de los próximos días previstos: \", len(lst_output))"
      ],
      "metadata": {
        "id": "IoA0Uh1nZMGy"
      },
      "execution_count": null,
      "outputs": []
    },
    {
      "cell_type": "markdown",
      "source": [
        "# 7.2 Trazando los 15 del conjunto de datos y los próximos 30 días"
      ],
      "metadata": {
        "id": "DeMkeU-MZNsU"
      }
    },
    {
      "cell_type": "code",
      "source": [
        "ult_dias=np.arange(1,time_step+1)\n",
        "dias_futuro=np.arange(time_step+1,time_step+pred_days+1)\n",
        "print(ult_dias)\n",
        "print(dias_futuro)"
      ],
      "metadata": {
        "id": "hb1OiY4fZQYT"
      },
      "execution_count": null,
      "outputs": []
    },
    {
      "cell_type": "code",
      "source": [
        "temp_mat = np.empty((len(ult_dias)+pred_days+1,1))\n",
        "temp_mat[:] = np.nan\n",
        "temp_mat = temp_mat.reshape(1,-1).tolist()[0]\n",
        "\n",
        "ultimo_valor_de_los_dias_originales = temp_mat\n",
        "prox_valor_de_los_dias_pred = temp_mat\n",
        "\n",
        "ultimo_valor_de_los_dias_originales[0:time_step+1] = scaler.inverse_transform(df_entrenar_sc[len(df_entrenar_sc)-time_step:]).reshape(1,-1).tolist()[0]\n",
        "prox_valor_de_los_dias_pred[time_step+1:] = scaler.inverse_transform(np.array(lst_output).reshape(-1,1)).reshape(1,-1).tolist()[0]\n",
        "\n",
        "new_pred_plot = pd.DataFrame({\n",
        "    'último_valor_de_los_días_originales':ultimo_valor_de_los_dias_originales,\n",
        "    'próximo_valor_de_los_días_previstos':prox_valor_de_los_dias_pred\n",
        "})\n",
        "\n",
        "names = cycle(['Precio de cierre de los últimos 15 días','Precio de cierre previsto para los próximos 30 días'])\n",
        "\n",
        "fig = px.line(new_pred_plot,x=new_pred_plot.index, y=[new_pred_plot['último_valor_de_los_días_originales'],\n",
        "                                                      new_pred_plot['próximo_valor_de_los_días_previstos']],\n",
        "              labels={'value': 'Precios','index': 'Tiempo (Días)'})\n",
        "fig.update_layout(title_text='Visualización de la Comparación de los últimos días originales vs los próximos días futuros',\n",
        "                  plot_bgcolor='seashell', font_size=15, font_color='black',legend_title_text='Close Price')\n",
        "\n",
        "fig.for_each_trace(lambda t:  t.update(name = next(names)))\n",
        "fig.update_xaxes(showgrid=False)\n",
        "fig.update_yaxes(showgrid=False)\n",
        "fig.show()"
      ],
      "metadata": {
        "id": "yDGpq6e_ZR9D"
      },
      "execution_count": null,
      "outputs": []
    },
    {
      "cell_type": "markdown",
      "source": [
        "# 7.3 Predición Final del Precio de cierre de la moneda digital"
      ],
      "metadata": {
        "id": "2YcjxJ7kZTRP"
      }
    },
    {
      "cell_type": "code",
      "source": [
        "#Trazamos todo el precio de cierre de la Moneda Digital con el próximo período de predicción de n_futuro días\n",
        "lstmdf=df_entrenar_sc.tolist()\n",
        "lstmdf.extend((np.array(lst_output).reshape(-1,1)).tolist())\n",
        "lstmdf=scaler.inverse_transform(lstmdf).reshape(1,-1).tolist()[0]\n",
        "\n",
        "names = cycle(['Precios de Cierre'])\n",
        "\n",
        "fig = px.line(lstmdf,labels={'value': 'Precios','index': 'Tiempo (Días)'})\n",
        "fig.update_layout(title_text='Predición del Precio de cierre (todo el camino + predicción 30 días)',\n",
        "                  plot_bgcolor='honeydew', font_size=15, font_color='black',legend_title_text='Stock')\n",
        "\n",
        "fig.for_each_trace(lambda t:  t.update(name = next(names)))\n",
        "\n",
        "fig.update_xaxes(showgrid=False)\n",
        "fig.update_yaxes(showgrid=False)\n",
        "fig.show()"
      ],
      "metadata": {
        "id": "KtQIZ5TdZb9X"
      },
      "execution_count": null,
      "outputs": []
    },
    {
      "cell_type": "markdown",
      "source": [
        "#8.Conclusiones"
      ],
      "metadata": {
        "id": "u2x2nbXxZdQ-"
      }
    },
    {
      "cell_type": "markdown",
      "source": [
        "Realizar la predicción de precios de una moneda digital o cualquier otro activo financiero, resulta una tarea para nada trivial y más cuando detrás de estos datos se encuentran decisiones y comportamiento de seres humanos. Después de haber realizado nuestro proceso KDD y haber probado el modelo LSTM (memoria larga y corto plazo), debido a su amplio uso en aplicaciones de series de tiempo, como por ejemplo en este caso. Se puede comentar que efectivamente el modelo cree que será de acuerdo a lo que aprendió con los datos históricos, pero al ir ajustando el modelo y realizar las validaciones correspondientes este responde con una predicción razonable. \n",
        " \n",
        "Cabe destacar que el modelo se puede seguir potenciando, con interacciones que permitan mejorar las medidas de evaluación, minería de datos y los parámetros de configuración. Además de agregar al modelo análisis de sentimientos a través de la plataforma twitter o facebook  o bien análisis de variables multivariantes en el mismo modelo. \n",
        " \n",
        "La tendencia que predice este modelo LSTM es de tipo conservador, debido a que prevé que el precio de cierre será de 17.500 USD aproximadamente, al 30 de diciembre del año 2022, siempre y cuando exista Ceteris paribus, es decir, que ninguna amenaza externa haga cambiar la tendencia actual.\n",
        "Por lo tanto, se puede concluir que es un buen momento para comprar Bitcoin, debido a su gran proyección y porque su precio en este momento está en 16.800 USD aproximadamente.\n",
        "Finalmente los economistas que utilicen la inteligencia artificial y machine learning podrían reducir potencialmente el riesgo y maximizar los rendimientos. Debido a que al predecir con precisión los precios de las monedas digitales, los inversores pueden maximizar los rendimientos y saber cuándo comprar/vender valores.\n"
      ],
      "metadata": {
        "id": "RA0O1wvmZf6H"
      }
    }
  ]
}